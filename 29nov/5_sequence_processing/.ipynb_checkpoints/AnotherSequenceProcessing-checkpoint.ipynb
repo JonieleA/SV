{
 "cells": [
  {
   "cell_type": "code",
   "execution_count": 1,
   "id": "e6d94ab4-d617-4fa2-aa89-4387fcac23d3",
   "metadata": {},
   "outputs": [],
   "source": [
    "with open('C:/Users/Home/Desktop/5_sequence_processing/SequenceMUX.txt') as f:\n",
    "    fileStr = f.read()"
   ]
  },
  {
   "cell_type": "code",
   "execution_count": 2,
   "id": "cf8cf84a-56e8-4a9c-be2b-aec571d779af",
   "metadata": {},
   "outputs": [],
   "source": [
    "counter_0 = 0\n",
    "counter_1 = 0\n",
    "\n",
    "counter_00 = 0\n",
    "counter_01 = 0\n",
    "counter_10 = 0\n",
    "counter_11 = 0\n",
    "\n",
    "counter_000 = 0\n",
    "counter_001 = 0\n",
    "counter_010 = 0\n",
    "counter_011 = 0\n",
    "counter_100 = 0\n",
    "counter_101 = 0\n",
    "counter_110 = 0\n",
    "counter_111 = 0"
   ]
  },
  {
   "cell_type": "code",
   "execution_count": 3,
   "id": "fc6df0cd-1d0e-48db-8916-2d9801f0e4e2",
   "metadata": {},
   "outputs": [
    {
     "name": "stdout",
     "output_type": "stream",
     "text": [
      "4884   5120\n"
     ]
    }
   ],
   "source": [
    "for i in range(0,len(fileStr),1):\n",
    "    if(fileStr[i] == '0'):\n",
    "        counter_0 = counter_0 + 1\n",
    "    if(fileStr[i] == '1'):\n",
    "        counter_1 = counter_1 + 1\n",
    "\n",
    "print(counter_0,' ', counter_1)"
   ]
  },
  {
   "cell_type": "code",
   "execution_count": 4,
   "id": "ed9799fe-9250-4286-8e67-bba29e0271bd",
   "metadata": {},
   "outputs": [],
   "source": [
    "for i in range(0,len(fileStr)-1,2):\n",
    "    if(fileStr[i] == '0') and (fileStr[i+1] == '0'):\n",
    "        counter_00 = counter_00 + 1\n",
    "    if(fileStr[i] == '0') and (fileStr[i+1] == '1'):\n",
    "        counter_01 = counter_01 + 1\n",
    "    if(fileStr[i] == '1') and (fileStr[i+1] == '0'):\n",
    "        counter_10 = counter_10 + 1\n",
    "    if(fileStr[i] == '1') and (fileStr[i+1] == '1'):\n",
    "        counter_11 = counter_11 + 1"
   ]
  },
  {
   "cell_type": "code",
   "execution_count": 5,
   "id": "8c293414-edbf-4ff1-b5c7-1155e987d458",
   "metadata": {},
   "outputs": [
    {
     "name": "stdout",
     "output_type": "stream",
     "text": [
      "1206   1238   1234   1324\n"
     ]
    }
   ],
   "source": [
    "print(counter_00,' ',counter_01,' ',counter_10,' ',counter_11)"
   ]
  },
  {
   "cell_type": "code",
   "execution_count": null,
   "id": "277d143d-7db3-49aa-8419-311c2dce9660",
   "metadata": {},
   "outputs": [],
   "source": [
    "for i in range(0,len(fileStr)-2,3):\n",
    "    if(fileStr[i] == '0') and (fileStr[i+1] == '0') and(fileStr[i+2] == '0'):\n",
    "        counter_000 = counter_000 + 1\n",
    "    if(fileStr[i] == '0') and (fileStr[i+1] == '0') and(fileStr[i+2] == '1'):\n",
    "        counter_001 = counter_001 + 1\n",
    "    if(fileStr[i] == '0') and (fileStr[i+1] == '1') and(fileStr[i+2] == '0'):\n",
    "        counter_010 = counter_010 + 1\n",
    "    if(fileStr[i] == '0') and (fileStr[i+1] == '1') and(fileStr[i+2] == '1'):\n",
    "        counter_011 = counter_011 + 1\n",
    "    if(fileStr[i] == '1') and (fileStr[i+1] == '0') and(fileStr[i+2] == '0'):\n",
    "        counter_100 = counter_100 + 1\n",
    "    if(fileStr[i] == '1') and (fileStr[i+1] == '0') and(fileStr[i+2] == '1'):\n",
    "        counter_101 = counter_101 + 1\n",
    "    if(fileStr[i] == '1') and (fileStr[i+1] == '1') and(fileStr[i+2] == '0'):\n",
    "        counter_110 = counter_110 + 1\n",
    "    if(fileStr[i] == '1') and (fileStr[i+1] == '1') and(fileStr[i+2] == '1'):\n",
    "        counter_111 = counter_111 + 1"
   ]
  }
 ],
 "metadata": {
  "kernelspec": {
   "display_name": "Python 3 (ipykernel)",
   "language": "python",
   "name": "python3"
  },
  "language_info": {
   "codemirror_mode": {
    "name": "ipython",
    "version": 3
   },
   "file_extension": ".py",
   "mimetype": "text/x-python",
   "name": "python",
   "nbconvert_exporter": "python",
   "pygments_lexer": "ipython3",
   "version": "3.9.13"
  }
 },
 "nbformat": 4,
 "nbformat_minor": 5
}
